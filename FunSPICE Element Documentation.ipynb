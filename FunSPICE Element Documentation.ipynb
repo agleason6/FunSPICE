{
 "cells": [
  {
   "cell_type": "markdown",
   "metadata": {},
   "source": [
    "# FunSPICE \n",
    "## Element Documentation \n",
    "\n",
    "### Supported Elements\n",
    "<ul>\n",
    "    <li>Voltage Source (V)</li> \n",
    "    <li>Current Source (I)</li> \n",
    "    <li>Resistor (R)</li> \n",
    "    <li>Inductor (L)</li> \n",
    "    <li>Capacitor (C)</li> \n",
    "    <li>Voltage Controlled Voltage Source (E)</li> \n",
    "    <li>Voltage Controlled Current Source (G)</li> \n",
    "    <li>Current Controlled Current Source (F)</li> \n",
    "    <li>Current Controlled Voltage Source (H)</li> \n",
    "    <li>Ideal 1:N Transformer (X)</li> \n",
    "    <li>MOSFET SSM with variable ro, gm, cgd, cgs (M)</li>\n",
    "    <li>BJT SSM with variable ro, beta, gm, cbe, cbc (B)</li>\n",
    "    <li>OPAMP with infinite or defined gain function (O)</li>\n",
    "</ul>\n",
    "\n",
    "Scroll below to briefly see how each element can be instantiated in a netlist. "
   ]
  },
  {
   "cell_type": "markdown",
   "metadata": {},
   "source": [
    "## Voltage Source (V)\n",
    "<img src=\"v_stamp.png\">\n",
    "<b><pre>{'type':'V', 'k':k, 'j':j, 'val':'V'}</pre></b>\n",
    "The nodes k,j make up the voltage source with value V. Note that V can be symbolic expression of multiple variables such as 'k*V+Vo', 'V/s' or a simple number such as 2, 3.14159, 0."
   ]
  },
  {
   "cell_type": "markdown",
   "metadata": {},
   "source": [
    "## Current Source (I)\n",
    "<img src=\"i_stamp.png\">\n",
    "<b><pre>{'type':'I', 'k':k, 'j':j, 'val':'Is'}</pre></b>\n",
    "The nodes k,j make up the current source with value Is. Note that Is can be symbolic expression of multiple variables such as 'k*I+Ib', 'I/s' or a simple number such as 2, 3.14159, 0."
   ]
  },
  {
   "cell_type": "markdown",
   "metadata": {},
   "source": [
    "## Resistor (R)\n",
    "<img src=\"r_stamp.png\">\n",
    "<b><pre>{'type':'R', 'k':k, 'j':j, 'val':'R'}</pre></b>\n",
    "The nodes k,j make up the resistor with value R. Note that R can be symbolic expression of multiple variables such as 'R*s', 'R/s' or a simple number such as 2, 3.14159."
   ]
  },
  {
   "cell_type": "markdown",
   "metadata": {},
   "source": [
    "## Inductor (L)\n",
    "<img src=\"l_stamp.png\">\n",
    "<b><pre>{'type':'L', 'k':k, 'j':j, 'val':'L'}</pre></b>\n",
    "The nodes k,j make up the inductor with value L. Note that L can be symbolic expression of multiple variables such as 'L1*k', 'Ls/5' or a simple number such as 2, 3.14159."
   ]
  },
  {
   "cell_type": "markdown",
   "metadata": {},
   "source": [
    "## Capacitor (C)\n",
    "<img src=\"c_stamp.png\">\n",
    "<b><pre>{'type':'C', 'k':k, 'j':j, 'val':'C'}</pre></b>\n",
    "The nodes k,j make up the capacitor with value C. Note that C can be symbolic expression of multiple variables such as 'C1+C2', 'C/T' or a simple number such as 2, 3.14159."
   ]
  },
  {
   "cell_type": "markdown",
   "metadata": {},
   "source": [
    "## Voltage Controlled Voltage Source (E)\n",
    "<img src=\"e_stamp.png\">\n",
    "<b><pre>{'type':'E', 'k':k, 'j':j, 'p':p, 'q':q, 'val':'A_v'}</pre></b>\n",
    "The nodes k,j make up the controlled voltage source controlled by the voltage difference between the nodes p,q and the voltage gain Av. Note that Av can be symbolic expression of multiple variables such as 'k*A_v', 'A_v/s' or a simple number such as 2, 3.14159."
   ]
  },
  {
   "cell_type": "markdown",
   "metadata": {},
   "source": [
    "## Voltage Controlled Current Source (G)\n",
    "<img src=\"g_stamp.png\">\n",
    "<b><pre>{'type':'G', 'k':k, 'j':j, 'p':p, 'q':q, 'val':'G'}</pre></b>\n",
    "The nodes k,j make up the controlled current source controlled by the voltage between the nodes p,q and the conductance G. Note that G can be symbolic expression such as 'G', 'G/s', 'G/(1+w/s)', 'I_C/V_T' or a number such as 2, 3.14159.\n"
   ]
  },
  {
   "cell_type": "markdown",
   "metadata": {},
   "source": [
    "## Current Controlled Current Source (F)\n",
    "<img src=\"f_stamp.png\">\n",
    "<b><pre>{'type':'F', 'k':k, 'j':j, 'p':p, 'q':q, 'val':'A_i'}</pre></b>\n",
    "The nodes k,j make up the controlled current source controlled by the current measured through the short between the nodes p,q and the current gain Ai. Note that Ai can be symbolic expression of multiple variables such as 'k*A_i', 'A_i/s' or a simple number such as 2, 3.14159."
   ]
  },
  {
   "cell_type": "markdown",
   "metadata": {},
   "source": [
    "## Current Controlled Voltage Source (H)\n",
    "<img src=\"h_stamp.png\">\n",
    "<b><pre>{'type':'H', 'k':k, 'j':j, 'p':p, 'q':q, 'val':'Z'}</pre></b>\n",
    "The nodes k,j make up the controlled voltage source controlled by the current flowing between the nodes p,q and the impedance Z. Note that Av can be symbolic expression of multiple variables such as 'k*Z', 'Z/s' or a simple number such as 2, 3.14159."
   ]
  },
  {
   "cell_type": "markdown",
   "metadata": {},
   "source": [
    "## Ideal Transformer (X)\n",
    "<img src=\"x_stamp.png\">\n",
    "<b><pre>{'type':'X', 'p1':p1, 'n1':n1,'p2':p2, 'n2':n2, 'val':'n'}</pre></b>\n",
    "X is a ideal 1:n transformer model. The value parameter sets the turns ratio for the transformer.\n"
   ]
  },
  {
   "cell_type": "markdown",
   "metadata": {},
   "source": [
    "## Mosfet SSM (M)\n",
    "<img src=\"m_stamp.png\">\n",
    "<b><pre>{'type':'M', 'd':0, 'g':1, 's':2, 'ro':'ro', 'gm':'gm', 'cgs':'cgs', 'cgd':'cgd'}</pre></b>\n",
    "M represents the small signal model for a mosfet. It can be used as either a nFET or pFET, just make sure to get the drain and source terminals connected properly. It supports output resistance ro, transconductance gm, gate-source capacitance cgs, and gate-drain capacitance cgd. Each parameter can be set as a single variable, expression of multiple variables, or a number (including 0). Ro can be set to 'inf' to take it out of the equation if desired. "
   ]
  },
  {
   "cell_type": "markdown",
   "metadata": {},
   "source": [
    "## Bipolar SSM (B)\n",
    "<img src=\"b_stamp.png\">\n",
    "<b><pre>{'type':'B', 'c':0, 'b':1, 'e':2, 'ro':'ro', 'beta':'beta', 'gm':'gm', 'cbe':'cbe', 'cbc':'cbc'}</pre></b>\n",
    "B represents the small signal model for a bipolar device. It can be used as either an NPN or PNP, just make sure to get the collector and emitter terminals connected properly. It supports output resistance ro, transconductance gm, base-emitter capacitance cbe, and collector-base capacitance cbc. Each parameter can be set as a single variable, expression of multiple variables, or a number (including 0). Ro can be set to 'inf' to take it out of the equation if desired. beta can also be set to inf to simulate an ideal bipolar device."
   ]
  },
  {
   "cell_type": "markdown",
   "metadata": {},
   "source": [
    "## Operational Amplifier (O)\n",
    "<img src=\"o_stamp.png\">\n",
    "<b><pre>{'type':'O', 'p':p, 'n':n, 'o':o,'val':'A_v'}</pre></b>\n",
    "The node p is the positive input, n is negative, and o is output. The val parameter represents the open loop gain (Av) of the opamp. Note that the gain Av can be symbolic expression of multiple variables such as 'k*A_v', 'A_v/s' or a simple number such as 2, 3.14159."
   ]
  },
  {
   "cell_type": "code",
   "execution_count": null,
   "metadata": {},
   "outputs": [],
   "source": []
  }
 ],
 "metadata": {
  "kernelspec": {
   "display_name": "Python 3",
   "language": "python",
   "name": "python3"
  },
  "language_info": {
   "codemirror_mode": {
    "name": "ipython",
    "version": 3
   },
   "file_extension": ".py",
   "mimetype": "text/x-python",
   "name": "python",
   "nbconvert_exporter": "python",
   "pygments_lexer": "ipython3",
   "version": "3.6.5"
  }
 },
 "nbformat": 4,
 "nbformat_minor": 2
}
